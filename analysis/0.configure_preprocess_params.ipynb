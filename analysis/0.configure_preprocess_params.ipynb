{
 "cells": [
  {
   "cell_type": "markdown",
   "metadata": {},
   "source": [
    "# Configure Preprocessing Params\n",
    "\n",
    "This notebook should be used to set up preprocessing params.\n",
    "Cells marked with `SET PARAMETERS` contain crucial variables that need to be set according to your specific experimental setup and data organization.\n",
    "Please review and modify these variables as needed before proceeding with the analysis."
   ]
  },
  {
   "cell_type": "markdown",
   "metadata": {},
   "source": [
    "## Imports"
   ]
  },
  {
   "cell_type": "code",
   "execution_count": null,
   "metadata": {},
   "outputs": [],
   "source": [
    "import re\n",
    "from pathlib import Path\n",
    "from itertools import chain\n",
    "\n",
    "import pandas as pd\n",
    "import yaml\n",
    "from microfilm.microplot import Microimage\n",
    "import matplotlib.pyplot as plt\n",
    "\n",
    "from lib.shared.configuration_utils import CONFIG_FILE_HEADER, create_micropanel\n",
    "from lib.preprocess.preprocess import extract_tile_metadata, nd2_to_tiff"
   ]
  },
  {
   "cell_type": "markdown",
   "metadata": {},
   "source": [
    "## SET PARAMETERS\n",
    "\n",
    "### Fixed parameters for preprocessing\n",
    "\n",
    "- `CONFIG_FILE_PATH`: Path to a Brieflow config file used during processing*.\n",
    "- `ROOT_FP`: Path to root of Brieflow output directory*.\n",
    "\n",
    "*Note: Paths can be absolute or relative to where workflows are run from."
   ]
  },
  {
   "cell_type": "code",
   "execution_count": null,
   "metadata": {},
   "outputs": [],
   "source": [
    "CONFIG_FILE_PATH = \"config/config.yml\"\n",
    "ROOT_FP = \"analysis_root/\""
   ]
  },
  {
   "cell_type": "markdown",
   "metadata": {},
   "source": [
    "## SET PARAMETERS\n",
    "\n",
    "### Paths to dataframes with sample information\n",
    "\n",
    "- `SBS_SAMPLES_DF_FP`/`PHENOTYPE_SAMPLES_DF_FP`: Path to dataframe with SBS/phenotype samples location and metadata*.\n",
    "- `SBS_DATA_FP`/`PHENOTYPE_DATA_FP`: Path to directories with SBS/phenotype sample nd2 files*.\n",
    "- `SBS_SAMPLE_PATTERN`/`PHENOTYPE_SAMPLE_PATTERN`: Regex patterns to match SBS/phenotype sample nd2 files.\n",
    "\n",
    "*Note: Paths can be absolute or relative to where workflows are run from."
   ]
  },
  {
   "cell_type": "code",
   "execution_count": null,
   "metadata": {},
   "outputs": [],
   "source": [
    "# paths to sample dataframes\n",
    "SBS_SAMPLES_DF_FP = None\n",
    "PHENOTYPE_SAMPLES_DF_FP = None\n",
    "\n",
    "# directories with SBS/phenotype sample nd2 files\n",
    "SBS_REAL_IMAGES_FP = Path(None)\n",
    "SBS_EMPTY_IMAGES_FP = Path(None)\n",
    "PHENOTYPE_REAL_IMAGES_FP = Path(None)\n",
    "PHENOTYPE_EMPTY_IMAGES_FP = Path(None)\n",
    "\n",
    "# Patterns to match SBS/phenotype sample nd2 files\n",
    "SBS_SAMPLE_PATTERN = None\n",
    "PHENOTYPE_SAMPLE_PATTERN = None\n",
    "\n",
    "\"\"\"\n",
    "We use the following LLM prompt to generate the example sample patterns:\n",
    "\n",
    "Given the following ND2 file names, create two regular expressions (regex) as raw string literals to extract specific components from the filenames. The regex patterns should be assigned to the variables `SBS_SAMPLE_PATTERN` and `PHENOTYPE_SAMPLE_PATTERN` as follows:\n",
    "\n",
    "1. `SBS_SAMPLE_PATTERN`: Extract the following components from SBS filenames:\n",
    "   - Cycle number (\"C\" then a number)\n",
    "   - Well identifier (\"Wells-\" then a letter and a number)\n",
    "   - Tile number (\"Points-\" then a number)\n",
    "Example SBS ND2 file name: P001_SBS_10x_C9_Wells-A1_Points-100__Channel_Cy7,Cy5,AF594,Cy3_SBS,DAPI_SBS.nd2   \n",
    "\n",
    "2. `PHENOTYPE_SAMPLE_PATTERN`: Extract the following components from Phenotype filenames:\n",
    "   - Well identifier (\"Wells-\" then a letter and a number)\n",
    "   - Tile number (\"Points-\" then a number)\n",
    "Example Phenotype ND2 file name: P001_Pheno_20x_Wells-A1_Points-001__Channel_AF750,Cy3,GFP,DAPI.nd2\n",
    "\n",
    "We want to use these regex patterns to match files and find information like below:\n",
    "for file in chain(SBS_REAL_IMAGES_FP.iterdir(), SBS_EMPTY_IMAGES_FP.iterdir()):\n",
    "    match = re.search(SBS_SAMPLE_PATTERN, file.name)\n",
    "    if match:\n",
    "        cycle = int(match.group(1))\n",
    "        well = match.group(2)\n",
    "        tile = int(match.group(3))\n",
    "\"\"\""
   ]
  },
  {
   "cell_type": "markdown",
   "metadata": {},
   "source": [
    "## Create Sample DFs"
   ]
  },
  {
   "cell_type": "code",
   "execution_count": null,
   "metadata": {},
   "outputs": [],
   "source": [
    "# List to store file information\n",
    "sbs_data = []\n",
    "\n",
    "# Iterate over files and extract information\n",
    "for file in chain(SBS_REAL_IMAGES_FP.iterdir(), SBS_EMPTY_IMAGES_FP.iterdir()):\n",
    "    match = re.search(SBS_SAMPLE_PATTERN, file.name)\n",
    "    if match:\n",
    "        cycle = int(match.group(1))\n",
    "        well = match.group(2)\n",
    "        tile = int(match.group(3))\n",
    "\n",
    "        sbs_data.append(\n",
    "            {\"sample_fp\": str(file), \"well\": well, \"tile\": tile, \"cycle\": cycle}\n",
    "        )\n",
    "\n",
    "# Create a DataFrame and sort by well, tile, and cycle\n",
    "sbs_samples = pd.DataFrame(sbs_data)\n",
    "sbs_samples = sbs_samples.sort_values(by=[\"well\", \"tile\", \"cycle\"])\n",
    "sbs_samples = sbs_samples.reset_index(drop=True)\n",
    "\n",
    "sbs_samples.to_csv(SBS_SAMPLES_DF_FP, sep=\"\\t\", index=False)\n",
    "print(\"SBS samples:\")\n",
    "display(sbs_samples)\n",
    "\n",
    "\n",
    "# List to store file information\n",
    "phenotype_data = []\n",
    "\n",
    "# Iterate over files and extract information\n",
    "for file in chain(\n",
    "    PHENOTYPE_REAL_IMAGES_FP.iterdir(), PHENOTYPE_EMPTY_IMAGES_FP.iterdir()\n",
    "):\n",
    "    match = re.search(PHENOTYPE_SAMPLE_PATTERN, file.name)\n",
    "    if match:\n",
    "        well = match.group(1)\n",
    "        tile = int(match.group(2))\n",
    "\n",
    "        phenotype_data.append({\"sample_fp\": str(file), \"well\": well, \"tile\": tile})\n",
    "\n",
    "# Create a DataFrame and sort by well, tile, and cycle\n",
    "phenotype_samples = pd.DataFrame(phenotype_data)\n",
    "phenotype_samples = phenotype_samples.sort_values(by=[\"well\", \"tile\"])\n",
    "phenotype_samples = phenotype_samples.reset_index(drop=True)\n",
    "\n",
    "phenotype_samples.to_csv(PHENOTYPE_SAMPLES_DF_FP, sep=\"\\t\", index=False)\n",
    "print(\"Phenotype samples:\")\n",
    "display(phenotype_samples)"
   ]
  },
  {
   "cell_type": "markdown",
   "metadata": {},
   "source": [
    "## Test Metadata Extraction"
   ]
  },
  {
   "cell_type": "code",
   "execution_count": null,
   "metadata": {},
   "outputs": [],
   "source": [
    "# Extract metadata from test sbs sample\n",
    "test_sbs_metadata = extract_tile_metadata(\n",
    "    sbs_samples[\"sample_fp\"][0], sbs_samples[\"tile\"][0], verbose=True\n",
    ")\n",
    "print(\"SBS test metadata:\")\n",
    "display(test_sbs_metadata)\n",
    "\n",
    "# Extract metadata from test phenotype sample\n",
    "test_phenotype_metadata = extract_tile_metadata(\n",
    "    phenotype_samples[\"sample_fp\"][0],\n",
    "    phenotype_samples[\"tile\"][0],\n",
    "    verbose=True,\n",
    ")\n",
    "print(\"Phenotype test metadata:\")\n",
    "display(test_phenotype_metadata)"
   ]
  },
  {
   "cell_type": "markdown",
   "metadata": {},
   "source": [
    "## SET PARAMETERS\n",
    "\n",
    "### ND2 conversion\n",
    "\n",
    "- `SBS_CHANNEL_ORDER_FLIP`/`PHENOTYPE_CHANNEL_ORDER_FLIP`: Whether or not to flip channel order when converting ND2->tiff. Should be `False` if channels are in a standard order (with Dapi first), or `True` if channels are reversed.\n",
    "\n",
    "**Note** Channel order can be checked with the test conversions below. Please ensure the Dapi channel is displayed first!"
   ]
  },
  {
   "cell_type": "code",
   "execution_count": null,
   "metadata": {},
   "outputs": [],
   "source": [
    "SBS_CHANNEL_ORDER_FLIP = None\n",
    "PHENOTYPE_CHANNEL_ORDER_FLIP = None"
   ]
  },
  {
   "cell_type": "markdown",
   "metadata": {},
   "source": [
    "## Test ND2 Conversion"
   ]
  },
  {
   "cell_type": "markdown",
   "metadata": {},
   "source": [
    "### Test SBS conversion"
   ]
  },
  {
   "cell_type": "code",
   "execution_count": null,
   "metadata": {},
   "outputs": [],
   "source": [
    "# Convert test sbs sample to tiff\n",
    "sbs_image = nd2_to_tiff(sbs_samples[\"sample_fp\"][0], SBS_CHANNEL_ORDER_FLIP)\n",
    "\n",
    "# Create micropanel to display converted samples\n",
    "print(\"Converted SBS test sample:\")\n",
    "sbs_microimages = [Microimage(image) for image in sbs_image]\n",
    "sbs_panel = create_micropanel(sbs_microimages, add_channel_label=False)\n",
    "plt.show()"
   ]
  },
  {
   "cell_type": "markdown",
   "metadata": {},
   "source": [
    "### Test phenotype conversion"
   ]
  },
  {
   "cell_type": "code",
   "execution_count": null,
   "metadata": {},
   "outputs": [],
   "source": [
    "# Convert test phenotype sample to tiff\n",
    "phenotype_image = nd2_to_tiff(\n",
    "    phenotype_samples[\"sample_fp\"][0], PHENOTYPE_CHANNEL_ORDER_FLIP\n",
    ")\n",
    "\n",
    "# Create micropanel to display converted samples\n",
    "print(\"Converted phenotype test sample:\")\n",
    "phenotype_microimages = [Microimage(image) for image in phenotype_image]\n",
    "phenotype_panel = create_micropanel(phenotype_microimages, add_channel_label=False)\n",
    "plt.show()"
   ]
  },
  {
   "cell_type": "markdown",
   "metadata": {},
   "source": [
    "## Create config file with params"
   ]
  },
  {
   "cell_type": "code",
   "execution_count": null,
   "metadata": {},
   "outputs": [],
   "source": [
    "# Create empty config variable\n",
    "config = {}\n",
    "\n",
    "# Add all section\n",
    "config[\"all\"] = {\n",
    "    \"root_fp\": ROOT_FP,\n",
    "}\n",
    "\n",
    "# Add preprocess section\n",
    "config[\"preprocess\"] = {\n",
    "    \"sbs_samples_fp\": SBS_SAMPLES_DF_FP,\n",
    "    \"phenotype_samples_fp\": PHENOTYPE_SAMPLES_DF_FP,\n",
    "    \"sbs_channel_order_flip\": SBS_CHANNEL_ORDER_FLIP,\n",
    "    \"phenotype_channel_order_flip\": PHENOTYPE_CHANNEL_ORDER_FLIP,\n",
    "}\n",
    "\n",
    "# Write the updated configuration back with markdown-style comments\n",
    "with open(CONFIG_FILE_PATH, \"w\") as config_file:\n",
    "    # Write the introductory markdown-style comments\n",
    "    config_file.write(CONFIG_FILE_HEADER)\n",
    "\n",
    "    # Dump the updated YAML structure, keeping markdown comments for sections\n",
    "    yaml.dump(config, config_file, default_flow_style=False)"
   ]
  }
 ],
 "metadata": {
  "kernelspec": {
   "display_name": "brieflow_configuration",
   "language": "python",
   "name": "python3"
  },
  "language_info": {
   "codemirror_mode": {
    "name": "ipython",
    "version": 3
   },
   "file_extension": ".py",
   "mimetype": "text/x-python",
   "name": "python",
   "nbconvert_exporter": "python",
   "pygments_lexer": "ipython3",
   "version": "3.11.10"
  }
 },
 "nbformat": 4,
 "nbformat_minor": 2
}
