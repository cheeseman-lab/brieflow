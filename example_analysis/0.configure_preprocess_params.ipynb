{
 "cells": [
  {
   "cell_type": "markdown",
   "metadata": {},
   "source": [
    "# Configure Preprocessing Params\n",
    "\n",
    "This notebook should be used to set up preprocessing params.\n",
    "Cells marked with `SET PARAMETERS` contain crucial variables that need to be set according to your specific experimental setup and data organization.\n",
    "Please review and modify these variables as needed before proceeding with the analysis."
   ]
  },
  {
   "cell_type": "markdown",
   "metadata": {},
   "source": [
    "## Imports"
   ]
  },
  {
   "cell_type": "code",
   "execution_count": 1,
   "metadata": {},
   "outputs": [],
   "source": [
    "import re\n",
    "from pathlib import Path\n",
    "from itertools import chain\n",
    "\n",
    "import pandas as pd\n",
    "import yaml\n",
    "from microfilm.microplot import Microimage\n",
    "import matplotlib.pyplot as plt\n",
    "\n",
    "from lib.shared.configuration_utils import CONFIG_FILE_HEADER, create_samples_df, create_micropanel\n",
    "from lib.preprocess.preprocess import extract_tile_metadata, nd2_to_tiff\n",
    "from lib.preprocess.file_utils import get_sample_fps"
   ]
  },
  {
   "cell_type": "markdown",
   "metadata": {},
   "source": [
    "## SET PARAMETERS\n",
    "\n",
    "### Fixed parameters for preprocessing\n",
    "\n",
    "- `CONFIG_FILE_PATH`: Path to a Brieflow config file used during processing*.\n",
    "- `ROOT_FP`: Path to root of Brieflow output directory*.\n",
    "\n",
    "*Note: Paths can be absolute or relative to where workflows are run from."
   ]
  },
  {
   "cell_type": "code",
   "execution_count": 2,
   "metadata": {},
   "outputs": [],
   "source": [
    "CONFIG_FILE_PATH = \"config/config.yml\"\n",
    "ROOT_FP = \"analysis_root/\""
   ]
  },
  {
   "cell_type": "markdown",
   "metadata": {},
   "source": [
    "## SET PARAMETERS\n",
    "\n",
    "### Paths to dataframes with sample information\n",
    "\n",
    "- `SBS_SAMPLES_DF_FP`/`PHENOTYPE_SAMPLES_DF_FP`: Path to dataframe where SBS/phenotype samples location and metadata will be stored*.\n",
    "- `SBS_DATA_FP`/`PHENOTYPE_DATA_FP`: Path to directories with SBS/phenotype sample nd2 files*.\n",
    "- `SBS_SAMPLE_PATTERN`/`PHENOTYPE_SAMPLE_PATTERN`: Regex patterns to match SBS/phenotype sample nd2 files.\n",
    "- `SBS_CHANNEL_PATTERN`/`PHENOTYPE_CHANNEL_PATTERN`: Optional regex patterns to extract channel information from filenames. Set to None if files are multichannel or if channel information is not needed. If two rounds of multichannel images are generated, use distinguishing features between these to get channel variables.\n",
    "\n",
    "*Note: Paths can be absolute or relative to where workflows are run from."
   ]
  },
  {
   "cell_type": "code",
   "execution_count": null,
   "metadata": {},
   "outputs": [],
   "source": [
    "# paths to sample dataframes\n",
    "SBS_SAMPLES_DF_FP = \"config/sbs_samples.tsv\"\n",
    "PHENOTYPE_SAMPLES_DF_FP = \"config/phenotype_samples.tsv\"\n",
    "\n",
    "# directories with SBS/phenotype sample nd2 files\n",
    "SBS_REAL_IMAGES_FP = Path(\"data/real_images/sbs/\")\n",
    "SBS_EMPTY_IMAGES_FP = Path(\"data/empty_images/sbs/\")\n",
    "PHENOTYPE_REAL_IMAGES_FP = Path(\"data/real_images/phenotype/\")\n",
    "PHENOTYPE_EMPTY_IMAGES_FP = Path(\"data/empty_images/phenotype/\")\n",
    "\n",
    "# Patterns to match SBS/phenotype sample nd2 files\n",
    "SBS_SAMPLE_PATTERN = r\"C(\\d+)_Wells-([A-Z]\\d+)_Points-(\\d+)\"\n",
    "SBS_METADATA = [\"cycle\", \"well\", \"tile\"]\n",
    "PHENOTYPE_SAMPLE_PATTERN = r\"Wells-([A-Z]\\d+)_Points-(\\d+)\"\n",
    "PHENOTYPE_METADATA = [\"well\", \"tile\"]"
   ]
  },
  {
   "cell_type": "markdown",
   "metadata": {},
   "source": [
    "You must supply a working regex to the _PATTERN variables. If you don't have experience with regex, you can use the following LLM prompt to generate the example sample patterns.\n",
    "\n",
    "_Enter into a basic LLM chatbot_: Given ND2 filenames from your experiment, generate regex patterns to extract metadata. Return only the regex patterns with no explanation.\n",
    "\n",
    "Example filenames:\n",
    "[ENTER YOUR EXAMPLE FILES HERE]\n",
    "\n",
    "Required regex patterns (return these exact variable assignments):\n",
    "\n",
    "SBS_SAMPLE_PATTERN = r\"...\"\n",
    "PHENOTYPE_SAMPLE_PATTERN = r\"...\"\n",
    "SBS_CHANNEL_PATTERN = r\"...\" \n",
    "PHENOTYPE_CHANNEL_PATTERN = r\"...\"\n",
    "\n",
    "The patterns should extract:\n",
    "\n",
    "1. SBS_SAMPLE_PATTERN:\n",
    "  - Cycle number (after \"C\")\n",
    "  - Well ID (after \"Wells-\")  \n",
    "  - Tile number (after \"Points-\")\n",
    "\n",
    "2. PHENOTYPE_SAMPLE_PATTERN:\n",
    "  - Well ID (after \"Wells-\")\n",
    "  - Tile number (after \"Points-\") \n",
    "\n",
    "3. SBS_CHANNEL_PATTERN:\n",
    "  - Channel name (between \"Channel_\" and next \"_\" or \".\")\n",
    "  Set to None if images are multichannel\n",
    "\n",
    "4. PHENOTYPE_CHANNEL_PATTERN:  \n",
    "  - Channel name (between \"Channel_\" and next \"_\" or \".\")\n",
    "  Set to None if images are multichannel\n",
    "\n",
    "The patterns will be used like this:\n",
    "```python\n",
    "# Sample pattern matching\n",
    "match = re.search(SBS_SAMPLE_PATTERN, filename)\n",
    "cycle = int(match.group(1))\n",
    "well = match.group(2) \n",
    "tile = int(match.group(3))\n",
    "\n",
    "# Channel pattern matching (if not None)\n",
    "if SBS_CHANNEL_PATTERN:\n",
    "   channel_match = re.search(SBS_CHANNEL_PATTERN, filename)\n",
    "   channel = channel_match.group(1)\n",
    "```"
   ]
  },
  {
   "cell_type": "markdown",
   "metadata": {},
   "source": [
    "## Create Sample DFs"
   ]
  },
  {
   "cell_type": "markdown",
   "metadata": {},
   "source": [
    "## Test Metadata Extraction"
   ]
  },
  {
   "cell_type": "code",
   "execution_count": 5,
   "metadata": {},
   "outputs": [
    {
     "name": "stdout",
     "output_type": "stream",
     "text": [
      "No image directory provided, returning empty samples DataFrame!\n"
     ]
    },
    {
     "data": {
      "text/html": [
       "<div>\n",
       "<style scoped>\n",
       "    .dataframe tbody tr th:only-of-type {\n",
       "        vertical-align: middle;\n",
       "    }\n",
       "\n",
       "    .dataframe tbody tr th {\n",
       "        vertical-align: top;\n",
       "    }\n",
       "\n",
       "    .dataframe thead th {\n",
       "        text-align: right;\n",
       "    }\n",
       "</style>\n",
       "<table border=\"1\" class=\"dataframe\">\n",
       "  <thead>\n",
       "    <tr style=\"text-align: right;\">\n",
       "      <th></th>\n",
       "      <th>sample_fp</th>\n",
       "    </tr>\n",
       "  </thead>\n",
       "  <tbody>\n",
       "  </tbody>\n",
       "</table>\n",
       "</div>"
      ],
      "text/plain": [
       "Empty DataFrame\n",
       "Columns: [sample_fp]\n",
       "Index: []"
      ]
     },
     "metadata": {},
     "output_type": "display_data"
    },
    {
     "data": {
      "text/html": [
       "<div>\n",
       "<style scoped>\n",
       "    .dataframe tbody tr th:only-of-type {\n",
       "        vertical-align: middle;\n",
       "    }\n",
       "\n",
       "    .dataframe tbody tr th {\n",
       "        vertical-align: top;\n",
       "    }\n",
       "\n",
       "    .dataframe thead th {\n",
       "        text-align: right;\n",
       "    }\n",
       "</style>\n",
       "<table border=\"1\" class=\"dataframe\">\n",
       "  <thead>\n",
       "    <tr style=\"text-align: right;\">\n",
       "      <th></th>\n",
       "      <th>sample_fp</th>\n",
       "      <th>well</th>\n",
       "      <th>tile</th>\n",
       "    </tr>\n",
       "  </thead>\n",
       "  <tbody>\n",
       "    <tr>\n",
       "      <th>0</th>\n",
       "      <td>data/real_images/phenotype/P001_Pheno_20x_Well...</td>\n",
       "      <td>A1</td>\n",
       "      <td>1</td>\n",
       "    </tr>\n",
       "    <tr>\n",
       "      <th>1</th>\n",
       "      <td>data/real_images/phenotype/P001_Pheno_20x_Well...</td>\n",
       "      <td>A1</td>\n",
       "      <td>100</td>\n",
       "    </tr>\n",
       "    <tr>\n",
       "      <th>2</th>\n",
       "      <td>data/real_images/phenotype/P001_Pheno_20x_Well...</td>\n",
       "      <td>A2</td>\n",
       "      <td>1</td>\n",
       "    </tr>\n",
       "    <tr>\n",
       "      <th>3</th>\n",
       "      <td>data/real_images/phenotype/P001_Pheno_20x_Well...</td>\n",
       "      <td>A2</td>\n",
       "      <td>100</td>\n",
       "    </tr>\n",
       "  </tbody>\n",
       "</table>\n",
       "</div>"
      ],
      "text/plain": [
       "                                           sample_fp well  tile\n",
       "0  data/real_images/phenotype/P001_Pheno_20x_Well...   A1     1\n",
       "1  data/real_images/phenotype/P001_Pheno_20x_Well...   A1   100\n",
       "2  data/real_images/phenotype/P001_Pheno_20x_Well...   A2     1\n",
       "3  data/real_images/phenotype/P001_Pheno_20x_Well...   A2   100"
      ]
     },
     "execution_count": 5,
     "metadata": {},
     "output_type": "execute_result"
    }
   ],
   "source": [
    "sbs_samples_real = create_samples_df(SBS_REAL_IMAGES_FP, SBS_SAMPLE_PATTERN, SBS_METADATA)\n",
    "display(sbs_samples_real)\n",
    "\n",
    "create_samples_df(PHENOTYPE_REAL_IMAGES_FP, PHENOTYPE_SAMPLE_PATTERN, PHENOTYPE_METADATA)"
   ]
  },
  {
   "cell_type": "markdown",
   "metadata": {},
   "source": [
    "## SET PARAMETERS\n",
    "\n",
    "- `SBS_CHANNEL_ORDER`/`PHENOTYPE_CHANNEL_ORDER`: Manually set channel order _if ND2 images are acquired as single channels, or there are multiple files for each tile (e.g. multiple rounds of phenotype images). Should be `None` if multichannel image files are acquired. The extracted channel names must match the values that will be displayed in the samples DataFrame channel column (e.g., `[\"DAPI\", \"GFP\", \"CY3\", \"CY5\", \"AF750\"]`).\n",
    "\n",
    "**Note** For single-channel files, each file must contain a channel identifier that your regex can extract. For multichannel files, set the channel patterns to `None`. Metadata extraction is only performed on the first channel dimension for each tile. Please ensure the Dapi channel is displayed first!"
   ]
  },
  {
   "cell_type": "code",
   "execution_count": null,
   "metadata": {},
   "outputs": [],
   "source": [
    "SBS_CHANNEL_ORDER = None\n",
    "PHENOTYPE_CHANNEL_ORDER = None"
   ]
  },
  {
   "cell_type": "code",
   "execution_count": null,
   "metadata": {},
   "outputs": [],
   "source": [
    "# Extract metadata from test sbs sample\n",
    "test_sbs_metadata = extract_tile_metadata(\n",
    "    sbs_samples[\"sample_fp\"][0], \n",
    "    sbs_samples[\"tile\"][0], \n",
    "    verbose=True\n",
    ")\n",
    "print(\"SBS test metadata:\")\n",
    "display(test_sbs_metadata)\n",
    "\n",
    "# Extract metadata from test phenotype sample\n",
    "test_phenotype_metadata = extract_tile_metadata(\n",
    "    phenotype_samples[\"sample_fp\"][0],\n",
    "    phenotype_samples[\"tile\"][0],\n",
    "    verbose=True,\n",
    ")\n",
    "print(\"Phenotype test metadata:\")\n",
    "display(test_phenotype_metadata)"
   ]
  },
  {
   "cell_type": "markdown",
   "metadata": {},
   "source": [
    "## SET PARAMETERS\n",
    "\n",
    "### ND2 conversion\n",
    "\n",
    "- `SBS_CHANNEL_ORDER_FLIP`/`PHENOTYPE_CHANNEL_ORDER_FLIP`: Whether or not to flip channel order when converting ND2->tiff. Should be `False` if channels are in a standard order (with Dapi first), or `True` if channels are reversed. This will only occur for multichannel ND2 files, for each individual ND2 file. Setting the channel order for single channel files is done by setting `SBS_CHANNEL_ORDER`/`PHENOTYPE_CHANNEL_ORDER` previously.\n",
    "\n",
    "**Note** Channel order can be checked with the test conversions below. Please ensure the Dapi channel is displayed first!"
   ]
  },
  {
   "cell_type": "code",
   "execution_count": null,
   "metadata": {},
   "outputs": [],
   "source": [
    "SBS_CHANNEL_ORDER_FLIP = True\n",
    "PHENOTYPE_CHANNEL_ORDER_FLIP = True"
   ]
  },
  {
   "cell_type": "markdown",
   "metadata": {},
   "source": [
    "## Test ND2 Conversion"
   ]
  },
  {
   "cell_type": "markdown",
   "metadata": {},
   "source": [
    "### Test SBS conversion"
   ]
  },
  {
   "cell_type": "code",
   "execution_count": null,
   "metadata": {},
   "outputs": [],
   "source": [
    "sbs_sample = get_sample_fps(sbs_samples, \n",
    "                            well=sbs_samples[\"well\"][0], \n",
    "                            tile=sbs_samples[\"tile\"][0], \n",
    "                            cycle=sbs_samples[\"tile\"][0], \n",
    "                            channel_order = SBS_CHANNEL_ORDER)\n",
    "\n",
    "phenotype_sample = get_sample_fps(phenotype_samples, \n",
    "                                  well=phenotype_samples[\"well\"][0], \n",
    "                                  tile=phenotype_samples[\"tile\"][0], \n",
    "                                  channel_order = PHENOTYPE_CHANNEL_ORDER)"
   ]
  },
  {
   "cell_type": "code",
   "execution_count": null,
   "metadata": {},
   "outputs": [],
   "source": [
    "# Convert test sbs sample to tiff\n",
    "sbs_image = nd2_to_tiff(\n",
    "    sbs_sample, SBS_CHANNEL_ORDER, verbose=True\n",
    ")\n",
    "# Create micropanel to display converted samples\n",
    "print(\"Converted SBS test sample:\")\n",
    "sbs_microimages = [Microimage(image) for image in sbs_image]\n",
    "sbs_panel = create_micropanel(sbs_microimages, add_channel_label=False)\n",
    "plt.show()"
   ]
  },
  {
   "cell_type": "markdown",
   "metadata": {},
   "source": [
    "### Test phenotype conversion"
   ]
  },
  {
   "cell_type": "code",
   "execution_count": null,
   "metadata": {},
   "outputs": [],
   "source": [
    "# Convert test phenotype sample to tiff\n",
    "phenotype_image = nd2_to_tiff(\n",
    "    phenotype_sample, PHENOTYPE_CHANNEL_ORDER_FLIP, verbose=True\n",
    ")\n",
    "\n",
    "# Create micropanel to display converted samples\n",
    "print(\"Converted phenotype test sample:\")\n",
    "phenotype_microimages = [Microimage(image) for image in phenotype_image]\n",
    "phenotype_panel = create_micropanel(phenotype_microimages, add_channel_label=False)\n",
    "plt.show()"
   ]
  },
  {
   "cell_type": "markdown",
   "metadata": {},
   "source": [
    "## Create config file with params"
   ]
  },
  {
   "cell_type": "code",
   "execution_count": null,
   "metadata": {},
   "outputs": [],
   "source": [
    "# Create empty config variable\n",
    "config = {}\n",
    "\n",
    "# Add all section\n",
    "config[\"all\"] = {\n",
    "    \"root_fp\": ROOT_FP,\n",
    "}\n",
    "\n",
    "# Add preprocess section\n",
    "config[\"preprocess\"] = {\n",
    "    \"sbs_samples_fp\": SBS_SAMPLES_DF_FP,\n",
    "    \"phenotype_samples_fp\": PHENOTYPE_SAMPLES_DF_FP,\n",
    "    \"sbs_channel_order\": SBS_CHANNEL_ORDER,\n",
    "    \"phenotype_channel_order\": PHENOTYPE_CHANNEL_ORDER,\n",
    "    \"sbs_channel_order_flip\": SBS_CHANNEL_ORDER_FLIP,\n",
    "    \"phenotype_channel_order_flip\": PHENOTYPE_CHANNEL_ORDER_FLIP,\n",
    "}\n",
    "\n",
    "# Write the updated configuration back with markdown-style comments\n",
    "with open(CONFIG_FILE_PATH, \"w\") as config_file:\n",
    "    # Write the introductory markdown-style comments\n",
    "    config_file.write(CONFIG_FILE_HEADER)\n",
    "\n",
    "    # Dump the updated YAML structure, keeping markdown comments for sections\n",
    "    yaml.dump(config, config_file, default_flow_style=False)"
   ]
  }
 ],
 "metadata": {
  "kernelspec": {
   "display_name": "brieflow_configuration",
   "language": "python",
   "name": "python3"
  },
  "language_info": {
   "codemirror_mode": {
    "name": "ipython",
    "version": 3
   },
   "file_extension": ".py",
   "mimetype": "text/x-python",
   "name": "python",
   "nbconvert_exporter": "python",
   "pygments_lexer": "ipython3",
   "version": "3.11.10"
  }
 },
 "nbformat": 4,
 "nbformat_minor": 2
}
