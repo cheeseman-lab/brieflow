{
 "cells": [
  {
   "cell_type": "markdown",
   "metadata": {},
   "source": [
    "# Configure Phenotype Process Params\n",
    "\n",
    "This notebook should be used as a test for ensuring correct phenotype image loading and processing before running phenotype processing.\n",
    "Cells marked with `SET PARAMETERS` contain crucial variables that need to be set according to your specific experimental setup and data organization.\n",
    "Please review and modify these variables as needed before proceeding with the analysis."
   ]
  },
  {
   "cell_type": "markdown",
   "metadata": {},
   "source": [
    "## SET PARAMETERS\n",
    "\n",
    "### Fixed parameters for SBS processing\n",
    "\n",
    "- `CONFIG_FILE_PATH`: Path to a Brieflow config file used during processing. Absolute or relative to where workflows are run from."
   ]
  },
  {
   "cell_type": "code",
   "execution_count": 1,
   "metadata": {},
   "outputs": [],
   "source": [
    "CONFIG_FILE_PATH = \"config/config.yml\""
   ]
  },
  {
   "cell_type": "markdown",
   "metadata": {},
   "source": [
    "## Imports"
   ]
  },
  {
   "cell_type": "code",
   "execution_count": null,
   "metadata": {},
   "outputs": [],
   "source": [
    "from pathlib import Path\n",
    "\n",
    "import yaml\n",
    "import numpy as np\n",
    "import pandas as pd\n",
    "import matplotlib\n",
    "import matplotlib.pyplot as plt\n",
    "from skimage.io import imread\n",
    "from microfilm import microplot\n",
    "from microfilm.microplot import Micropanel\n",
    "\n",
    "from lib.shared.file_utils import get_filename\n",
    "from lib.shared.illumination_correction import apply_ic_field\n",
    "from lib.sbs_process.segment_cellpose import segment_cellpose"
   ]
  },
  {
   "cell_type": "markdown",
   "metadata": {},
   "source": [
    "## Helper Functions"
   ]
  },
  {
   "cell_type": "code",
   "execution_count": 3,
   "metadata": {},
   "outputs": [],
   "source": [
    "# Custom function to create segmentation colormap\n",
    "def random_cmap(alpha=0.5, num_colors=256):\n",
    "    \"\"\"Create random colormap for segmentation.\"\"\"\n",
    "    colmat = np.random.rand(num_colors, 4)\n",
    "    colmat[:, -1] = alpha\n",
    "    # Set the first color to black with full transparency\n",
    "    colmat[0, :] = [0, 0, 0, 1]\n",
    "    cmap = matplotlib.colors.ListedColormap(colmat)\n",
    "    return cmap"
   ]
  },
  {
   "cell_type": "markdown",
   "metadata": {},
   "source": [
    "## SET PARAMETERS\n",
    "\n",
    "### Parameters for testing SBS processing\n",
    "\n",
    "- `TEST_WELL`, `TEST_TILE`: Well/tile combination used for configuring parameters in this notebook."
   ]
  },
  {
   "cell_type": "code",
   "execution_count": 4,
   "metadata": {},
   "outputs": [],
   "source": [
    "TEST_WELL = \"A1\"\n",
    "TEST_TILE = 1\n",
    "\n",
    "WILDCARDS = dict(well=TEST_WELL, tile=TEST_TILE)"
   ]
  },
  {
   "cell_type": "code",
   "execution_count": null,
   "metadata": {},
   "outputs": [
    {
     "name": "stdout",
     "output_type": "stream",
     "text": [
      "Loading test image...\n"
     ]
    }
   ],
   "source": [
    "# load config file\n",
    "with open(CONFIG_FILE_PATH, \"r\") as config_file:\n",
    "    config = yaml.safe_load(config_file)\n",
    "\n",
    "# load test image data\n",
    "print(\"Loading test image...\")\n",
    "ROOT_FP = Path(config[\"all\"][\"root_fp\"])\n",
    "PREPROCESS_FP = ROOT_FP / \"preprocess\"\n",
    "phenotype_test_image_path = (\n",
    "    PREPROCESS_FP\n",
    "    / \"images\"\n",
    "    / \"phenotype\"\n",
    "    / get_filename(\n",
    "        {\"well\": TEST_WELL, \"tile\": TEST_TILE},\n",
    "        \"image\",\n",
    "        \"tiff\",\n",
    "    )\n",
    ")\n",
    "phenotype_test_image = imread(phenotype_test_image_path)\n",
    "\n",
    "print(\"Applying illumination correction...\")\n",
    "# Read the illumination correction file\n",
    "ic_field_path = (\n",
    "    PREPROCESS_FP\n",
    "    / \"ic_fields\"\n",
    "    / \"phenotype\"\n",
    "    / get_filename({\"well\": TEST_WELL}, \"ic_field\", \"tiff\")\n",
    ")\n",
    "ic_field = imread(ic_field_path)\n",
    "\n",
    "# This corresponds to the 'apply_illumination_correction' rule in Snakemake\n",
    "corrected_image = apply_ic_field(phenotype_test_image, correction=ic_field)\n",
    "\n",
    "# show corrected\n",
    "print(\"Example corrected image:\")\n",
    "ph0_microshow = microplot.Microimage(\n",
    "    corrected_image[:, :, 0], cmaps=\"pure_blue\", channel_names=\"DAPI\"\n",
    ")\n",
    "ph1_microshow = microplot.Microimage(\n",
    "    corrected_image[:, :, 1], cmaps=\"pure_green\", channel_names=\"GFP\"\n",
    ")\n",
    "ph2_microshow = microplot.Microimage(\n",
    "    corrected_image[:, :, 2], cmaps=\"pure_yellow\", channel_names=\"A594\"\n",
    ")\n",
    "ph3_microshow = microplot.Microimage(\n",
    "    corrected_image[:, :, 3], cmaps=\"pure_magenta\", channel_names=\"AF750\"\n",
    ")\n",
    "panel = Micropanel(rows=2, cols=2, figscaling=8)\n",
    "panel.add_element([0, 0], ph0_microshow)\n",
    "panel.add_element([0, 1], ph1_microshow)\n",
    "panel.add_element([1, 0], ph2_microshow)\n",
    "panel.add_element([1, 1], ph3_microshow)\n",
    "panel.add_channel_label()\n",
    "plt.show()"
   ]
  },
  {
   "cell_type": "markdown",
   "metadata": {},
   "source": [
    "## SET PARAMETERS\n",
    "\n",
    "### Segmentation\n",
    "\n",
    "- `DAPI_INDEX`: The index of the DAPI channel in your image stack (0-indexed). Typically 0 for the DAPI channel from sequencing.\n",
    "- `CYTO_CHANNEL`: The index of the cytoplasmic channel in your image stack (0-indexed). Typically the channel that best outlines cell boundaries, usually base C.\n",
    "- `NUCLEI_DIAMETER`: Expected cell nuclei diameter. Used by CellPose during segmentation.\n",
    "- `CELL_DIAMETER`: Expected cell cytoplasm diameter. Used by CellPose during segmentation.\n",
    "- `CYTO_MODEL`: CellPose cyto model to use during segmentation."
   ]
  },
  {
   "cell_type": "code",
   "execution_count": null,
   "metadata": {},
   "outputs": [],
   "source": [
    "# Parameters for CellPose segmentation\n",
    "DAPI_INDEX = 0\n",
    "CYTO_CHANNEL = 1\n",
    "NUCLEI_DIAMETER = 47.1\n",
    "CELL_DIAMETER = 55.3\n",
    "CYTO_MODEL = \"cyto3\""
   ]
  },
  {
   "cell_type": "code",
   "execution_count": null,
   "metadata": {},
   "outputs": [],
   "source": [
    "print(\"Segmenting cells...\")\n",
    "nuclei, cells = segment_cellpose(\n",
    "    data=corrected_image,\n",
    "    dapi_index=DAPI_INDEX,\n",
    "    cyto_index=CYTO_CHANNEL,\n",
    "    nuclei_diameter=NUCLEI_DIAMETER,\n",
    "    cell_diameter=CELL_DIAMETER,\n",
    "    cyto_model=CYTO_MODEL\n",
    ")"
   ]
  }
 ],
 "metadata": {
  "kernelspec": {
   "display_name": "brieflow_configuration",
   "language": "python",
   "name": "python3"
  },
  "language_info": {
   "codemirror_mode": {
    "name": "ipython",
    "version": 3
   },
   "file_extension": ".py",
   "mimetype": "text/x-python",
   "name": "python",
   "nbconvert_exporter": "python",
   "pygments_lexer": "ipython3",
   "version": "3.11.10"
  }
 },
 "nbformat": 4,
 "nbformat_minor": 2
}
