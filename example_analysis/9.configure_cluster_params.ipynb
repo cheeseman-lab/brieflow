{
 "cells": [
  {
   "cell_type": "markdown",
   "metadata": {},
   "source": [
    "# Configure Cluster Module Params\n",
    "\n",
    "This notebook should be used as a test for ensuring correct cluster parameters before cluster processing.\n",
    "Cells marked with `SET PARAMETERS` contain crucial variables that need to be set according to your specific experimental setup and data organization.\n",
    "Please review and modify these variables as needed before proceeding with the analysis."
   ]
  },
  {
   "cell_type": "markdown",
   "metadata": {},
   "source": [
    "## SET PARAMETERS\n",
    "\n",
    "### Fixed parameters for cluster processing\n",
    "\n",
    "- `CONFIG_FILE_PATH`: Path to a Brieflow config file used during processing. Absolute or relative to where workflows are run from."
   ]
  },
  {
   "cell_type": "code",
   "execution_count": 1,
   "metadata": {},
   "outputs": [],
   "source": [
    "CONFIG_FILE_PATH = \"config/config.yml\""
   ]
  },
  {
   "cell_type": "code",
   "execution_count": 2,
   "metadata": {},
   "outputs": [],
   "source": [
    "from pathlib import Path\n",
    "\n",
    "import yaml\n",
    "import pandas as pd\n",
    "\n",
    "from lib.shared.configuration_utils import CONFIG_FILE_HEADER"
   ]
  },
  {
   "cell_type": "code",
   "execution_count": 3,
   "metadata": {},
   "outputs": [],
   "source": [
    "# load config file and determine root path\n",
    "with open(CONFIG_FILE_PATH, \"r\") as config_file:\n",
    "    config = yaml.safe_load(config_file)\n",
    "    ROOT_FP = Path(config[\"all\"][\"root_fp\"])"
   ]
  },
  {
   "cell_type": "code",
   "execution_count": 4,
   "metadata": {},
   "outputs": [],
   "source": [
    "MIN_CELL_CUTOFFS = {\"mitotic\": 0, \"interphase\": 3, \"all\": 3}\n",
    "\n",
    "# Analysis parameters\n",
    "CORRELATION_THRESHOLD = 0.99\n",
    "VARIANCE_THRESHOLD = 0.001\n",
    "MIN_UNIQUE_VALUES = 5\n",
    "LEIDEN_RESOLUTION = 5.0"
   ]
  },
  {
   "cell_type": "code",
   "execution_count": 9,
   "metadata": {},
   "outputs": [
    {
     "name": "stdout",
     "output_type": "stream",
     "text": [
      "(20461, 5)\n",
      "(117118, 3)\n",
      "(5125, 28)\n"
     ]
    }
   ],
   "source": [
    "UNIPROT_DATA_FP = \"config/uniprot_data.tsv\"\n",
    "STRING_DATA_FP = \"config/string_data.tsv\"\n",
    "CORUM_DATA_FP = \"config/corum_data.tsv\"\n",
    "\n",
    "# TODO: create data below with API\n",
    "uniprot_data = pd.read_csv(\"/lab/barcheese01/screens/denali-etna-fuji/cluster_5/databases/uniprot_complete_data.csv\")\n",
    "uniprot_data.to_csv(UNIPROT_DATA_FP, sep=\"\\t\", index=False)\n",
    "print(uniprot_data.shape)\n",
    "\n",
    "string_data = pd.read_csv(\"/lab/barcheese01/screens/denali-etna-fuji/cluster_5/databases/9606.protein.links.v12.0.txt\", sep=\"\\t\")\n",
    "string_data.to_csv(STRING_DATA_FP, sep=\"\\t\", index=False)\n",
    "print(string_data.shape)\n",
    "\n",
    "corum_data = pd.read_csv(\"/lab/barcheese01/screens/denali-etna-fuji/cluster_5/databases/corum_humanComplexes.txt\", sep=\"\\t\")\n",
    "corum_data.to_csv(CORUM_DATA_FP, sep=\"\\t\", index=False)\n",
    "print(corum_data.shape)"
   ]
  },
  {
   "cell_type": "markdown",
   "metadata": {},
   "source": [
    "## Add cluster parameters to config file"
   ]
  },
  {
   "cell_type": "code",
   "execution_count": 12,
   "metadata": {},
   "outputs": [],
   "source": [
    "# Add cluster_process section\n",
    "config[\"cluster_process\"] = {\n",
    "    \"min_cell_cutoffs\": MIN_CELL_CUTOFFS,\n",
    "    \"correlation_threshold\": CORRELATION_THRESHOLD,\n",
    "    \"variance_threshold\": VARIANCE_THRESHOLD,\n",
    "    \"min_unique_values\": MIN_UNIQUE_VALUES,\n",
    "    \"leiden_resolution\": LEIDEN_RESOLUTION,\n",
    "    \"uniprot_data_fp\": UNIPROT_DATA_FP,\n",
    "    \"string_data_fp\": STRING_DATA_FP,\n",
    "    \"corum_data_fp\": CORUM_DATA_FP\n",
    "}\n",
    "\n",
    "# Write the updated configuration\n",
    "with open(CONFIG_FILE_PATH, \"w\") as config_file:\n",
    "    # Write the introductory comments\n",
    "    config_file.write(CONFIG_FILE_HEADER)\n",
    "\n",
    "    # Dump the updated YAML structure, keeping markdown comments for sections\n",
    "    yaml.dump(config, config_file, default_flow_style=False)"
   ]
  }
 ],
 "metadata": {
  "kernelspec": {
   "display_name": "brieflow_configuration",
   "language": "python",
   "name": "python3"
  },
  "language_info": {
   "codemirror_mode": {
    "name": "ipython",
    "version": 3
   },
   "file_extension": ".py",
   "mimetype": "text/x-python",
   "name": "python",
   "nbconvert_exporter": "python",
   "pygments_lexer": "ipython3",
   "version": "3.11.11"
  }
 },
 "nbformat": 4,
 "nbformat_minor": 2
}
