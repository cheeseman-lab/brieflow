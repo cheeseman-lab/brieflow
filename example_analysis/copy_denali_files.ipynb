{
 "cells": [
  {
   "cell_type": "code",
   "execution_count": 2,
   "metadata": {},
   "outputs": [],
   "source": [
    "import pickle\n",
    "import os\n",
    "from pathlib import Path\n",
    "\n",
    "import pandas as pd"
   ]
  },
  {
   "cell_type": "code",
   "execution_count": 3,
   "metadata": {},
   "outputs": [],
   "source": [
    "# test well/cycle for merge step\n",
    "TEST_WELL = \"A1\"\n",
    "TEST_CYCLE = 1"
   ]
  },
  {
   "cell_type": "markdown",
   "metadata": {},
   "source": [
    "### Copy metadata files"
   ]
  },
  {
   "cell_type": "code",
   "execution_count": 4,
   "metadata": {},
   "outputs": [],
   "source": [
    "# copy phenotype metadata file\n",
    "if not os.path.exists(\n",
    "    \"analysis_root/preprocess/metadata/phenotype/\"\n",
    "):\n",
    "    os.makedirs(\n",
    "        \"analysis_root/preprocess/metadata/phenotype/\"\n",
    "    )\n",
    "with open(f\"/lab/barcheese01/screens/denali/metadata/20X_{TEST_WELL}.metadata.pkl\", \"rb\") as f:\n",
    "    ph_test_metadata = pickle.load(f)\n",
    "    ph_test_metadata.rename(\n",
    "        columns={\n",
    "            \"field_of_view\": \"tile\",\n",
    "            \"x_data\": \"x_pos\",\n",
    "            \"y_data\": \"y_pos\",\n",
    "            \"z_pos\": \"z_pos\",\n",
    "        },\n",
    "        inplace=True,\n",
    "    )\n",
    "    ph_test_metadata.to_csv(\n",
    "        f\"analysis_root/preprocess/metadata/phenotype/W{TEST_WELL}__combined_metadata.tsv\",\n",
    "        sep=\"\\t\",\n",
    "        index=False,\n",
    "    )\n",
    "\n",
    "# copy sbs metadata file\n",
    "if not os.path.exists(\n",
    "    \"analysis_root/preprocess/metadata/sbs/\"\n",
    "):\n",
    "    os.makedirs(\n",
    "        \"analysis_root/preprocess/metadata/sbs/\"\n",
    "    )\n",
    "with open(\n",
    "    f\"/lab/barcheese01/screens/denali/metadata/10X_c{TEST_CYCLE}-SBS-{TEST_CYCLE}_{TEST_WELL}.metadata.pkl\", \"rb\"\n",
    ") as f:\n",
    "    sbs_test_metadata = pickle.load(f)\n",
    "    sbs_test_metadata.rename(\n",
    "        columns={\n",
    "            \"field_of_view\": \"tile\",\n",
    "            \"x_data\": \"x_pos\",\n",
    "            \"y_data\": \"y_pos\",\n",
    "            \"z_data\": \"z_pos\",\n",
    "        },\n",
    "        inplace=True,\n",
    "    )\n",
    "    sbs_test_metadata.to_csv(\n",
    "        f\"analysis_root/preprocess/metadata/sbs/W{TEST_WELL}_C{TEST_CYCLE}__combined_metadata.tsv\",\n",
    "        sep=\"\\t\",\n",
    "        index=False,\n",
    "    )"
   ]
  },
  {
   "cell_type": "markdown",
   "metadata": {},
   "source": [
    "### make minimal info files"
   ]
  },
  {
   "cell_type": "code",
   "execution_count": 5,
   "metadata": {},
   "outputs": [],
   "source": [
    "# anchor sites to copy over\n",
    "ANCHOR_SITES = [(5, 0), (141, 32), (370, 86), (896, 212), (1163, 270), (1599, 376)]\n",
    "# Extract phenotype and SBS tiles from initial sites\n",
    "ph_tiles = [site[0] for site in ANCHOR_SITES]\n",
    "sbs_tiles = [site[1] for site in ANCHOR_SITES]"
   ]
  },
  {
   "cell_type": "code",
   "execution_count": 6,
   "metadata": {},
   "outputs": [
    {
     "name": "stdout",
     "output_type": "stream",
     "text": [
      "20X_A1_Tile-1163.phenotype_info.csv\n",
      "20X_A1_Tile-141.phenotype_info.csv\n",
      "20X_A1_Tile-5.phenotype_info.csv\n",
      "20X_A1_Tile-896.phenotype_info.csv\n",
      "20X_A1_Tile-370.phenotype_info.csv\n",
      "20X_A1_Tile-1599.phenotype_info.csv\n",
      "10X_A1_Tile-86.sbs_info.csv\n",
      "10X_A1_Tile-32.sbs_info.csv\n",
      "10X_A1_Tile-212.sbs_info.csv\n",
      "10X_A1_Tile-376.sbs_info.csv\n",
      "10X_A1_Tile-270.sbs_info.csv\n",
      "10X_A1_Tile-0.sbs_info.csv\n"
     ]
    }
   ],
   "source": [
    "if not os.path.exists(\n",
    "    \"analysis_root/phenotype_process/tsvs\"\n",
    "):\n",
    "    os.makedirs(\n",
    "        \"analysis_root/phenotype_process/tsvs/\"\n",
    "    )\n",
    "phenotype_info_dir = Path(\"/lab/barcheese01/screens/denali/process_ph/tables/\")\n",
    "for phenotype_info_fp in phenotype_info_dir.iterdir():\n",
    "    # Convert to string for matching\n",
    "    file_name = str(phenotype_info_fp.name)\n",
    "    tile = int(file_name.split(\"Tile-\")[1].split(\".\")[0])\n",
    "    # Check if the file name contains the test well and any phenotype tile\n",
    "    if \"phenotype_info\" in file_name and TEST_WELL in file_name and tile in ph_tiles:\n",
    "        print(file_name)\n",
    "\n",
    "        phenotype_info = pd.read_csv(phenotype_info_fp)\n",
    "        phenotype_info.to_csv(f'analysis_root/phenotype_process/tsvs/W{TEST_WELL}_T{tile}__phenotype_info.tsv', sep=\"\\t\", index=False)\n",
    "\n",
    "if not os.path.exists(\n",
    "    \"analysis_root/sbs_process/tsvs\"\n",
    "):\n",
    "    os.makedirs(\n",
    "        \"analysis_root/sbs_process/tsvs/\"\n",
    "    )\n",
    "sbs_info_dir = Path(\"/lab/barcheese01/screens/denali/process_sbs/tables/\")\n",
    "for sbs_info_fp in sbs_info_dir.iterdir():\n",
    "    # Convert to string for matching\n",
    "    file_name = str(sbs_info_fp.name)\n",
    "    tile = int(file_name.split(\"Tile-\")[1].split(\".\")[0])\n",
    "    # Check if the file name contains the test well and any phenotype tile\n",
    "    if \"sbs_info\" in file_name and TEST_WELL in file_name and tile in sbs_tiles:\n",
    "        print(file_name)\n",
    "\n",
    "        sbs_info = pd.read_csv(sbs_info_fp)\n",
    "        sbs_info.to_csv(f'analysis_root/sbs_process/tsvs/W{TEST_WELL}_T{tile}__sbs_info.tsv', sep=\"\\t\", index=False)"
   ]
  }
 ],
 "metadata": {
  "kernelspec": {
   "display_name": "brieflow_configuration",
   "language": "python",
   "name": "python3"
  },
  "language_info": {
   "codemirror_mode": {
    "name": "ipython",
    "version": 3
   },
   "file_extension": ".py",
   "mimetype": "text/x-python",
   "name": "python",
   "nbconvert_exporter": "python",
   "pygments_lexer": "ipython3",
   "version": "3.11.11"
  }
 },
 "nbformat": 4,
 "nbformat_minor": 2
}
