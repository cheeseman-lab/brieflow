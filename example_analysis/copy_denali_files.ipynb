{
 "cells": [
  {
   "cell_type": "code",
   "execution_count": 3,
   "metadata": {},
   "outputs": [],
   "source": [
    "import pickle\n",
    "import os"
   ]
  },
  {
   "cell_type": "markdown",
   "metadata": {},
   "source": [
    "### Copy metadata files"
   ]
  },
  {
   "cell_type": "code",
   "execution_count": 4,
   "metadata": {},
   "outputs": [],
   "source": [
    "# copy phenotype metadata file\n",
    "if not os.path.exists(\n",
    "    \"/lab/barcheese01/rkern/brieflow/example_analysis/analysis_root/preprocess/metadata/phenotype/\"\n",
    "):\n",
    "    os.makedirs(\n",
    "        \"/lab/barcheese01/rkern/brieflow/example_analysis/analysis_root/preprocess/metadata/phenotype/\"\n",
    "    )\n",
    "with open(\"/lab/barcheese01/screens/denali/metadata/20X_B1.metadata.pkl\", \"rb\") as f:\n",
    "    ph_test_metadata = pickle.load(f)\n",
    "    ph_test_metadata.rename(\n",
    "        columns={\n",
    "            \"field_of_view\": \"tile\",\n",
    "            \"x_data\": \"x_pos\",\n",
    "            \"y_data\": \"y_pos\",\n",
    "            \"z_pos\": \"z_pos\",\n",
    "        },\n",
    "        inplace=True,\n",
    "    )\n",
    "    ph_test_metadata[[\"width\", \"height\"]] = 2400\n",
    "    ph_test_metadata.to_csv(\n",
    "        \"/lab/barcheese01/rkern/brieflow/example_analysis/analysis_root/preprocess/metadata/phenotype/WB1__combined_metadata.tsv\",\n",
    "        sep=\"\\t\",\n",
    "        index=False,\n",
    "    )\n",
    "\n",
    "# copy sbs metadata file\n",
    "if not os.path.exists(\n",
    "    \"/lab/barcheese01/rkern/brieflow/example_analysis/analysis_root/preprocess/metadata/sbs/\"\n",
    "):\n",
    "    os.makedirs(\n",
    "        \"/lab/barcheese01/rkern/brieflow/example_analysis/analysis_root/preprocess/metadata/sbs/\"\n",
    "    )\n",
    "with open(\n",
    "    \"/lab/barcheese01/screens/denali/metadata/10X_c1-SBS-1_B1.metadata.pkl\", \"rb\"\n",
    ") as f:\n",
    "    sbs_test_metadata = pickle.load(f)\n",
    "    sbs_test_metadata.rename(\n",
    "        columns={\n",
    "            \"field_of_view\": \"tile\",\n",
    "            \"x_data\": \"x_pos\",\n",
    "            \"y_data\": \"y_pos\",\n",
    "            \"z_data\": \"z_pos\",\n",
    "        },\n",
    "        inplace=True,\n",
    "    )\n",
    "    sbs_test_metadata[[\"width\", \"height\"]] = 2400\n",
    "    sbs_test_metadata.to_csv(\n",
    "        \"/lab/barcheese01/rkern/brieflow/example_analysis/analysis_root/preprocess/metadata/sbs/WB1_C1__combined_metadata.tsv\",\n",
    "        sep=\"\\t\",\n",
    "        index=False,\n",
    "    )"
   ]
  }
 ],
 "metadata": {
  "kernelspec": {
   "display_name": "brieflow_configuration",
   "language": "python",
   "name": "python3"
  },
  "language_info": {
   "codemirror_mode": {
    "name": "ipython",
    "version": 3
   },
   "file_extension": ".py",
   "mimetype": "text/x-python",
   "name": "python",
   "nbconvert_exporter": "python",
   "pygments_lexer": "ipython3",
   "version": "3.11.11"
  }
 },
 "nbformat": 4,
 "nbformat_minor": 2
}
