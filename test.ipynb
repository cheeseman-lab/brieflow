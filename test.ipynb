{
 "cells": [
  {
   "cell_type": "code",
   "execution_count": 1,
   "metadata": {},
   "outputs": [],
   "source": [
    "from pathlib import Path\n",
    "from lib.shared.file_utils import get_filename"
   ]
  },
  {
   "cell_type": "code",
   "execution_count": 2,
   "metadata": {},
   "outputs": [
    {
     "name": "stdout",
     "output_type": "stream",
     "text": [
      "/lab/barcheese01/rkern/brieflow/example_analysis/analysis_root/preprocess/metadata/phenotype/P-{plate}_W-{well}__combined_metadata.parquet\n"
     ]
    }
   ],
   "source": [
    "print(\"/lab/barcheese01/rkern/brieflow/example_analysis/analysis_root/preprocess/metadata/phenotype/P-{plate}_W-{well}__combined_metadata.parquet\")"
   ]
  },
  {
   "cell_type": "code",
   "execution_count": 3,
   "metadata": {},
   "outputs": [],
   "source": [
    "PREPROCESS_FP = Path(\"root_fp\") / \"preprocess\"\n",
    "PREPROCESS_OUTPUTS = {\n",
    "    \"extract_metadata_sbs\": [\n",
    "        PREPROCESS_FP\n",
    "        / \"metadata\"\n",
    "        / \"sbs\"\n",
    "        / get_filename(\n",
    "            {\n",
    "                \"plate\": \"{plate}\",\n",
    "                \"well\": \"{well}\",\n",
    "                \"tile\": \"{tile}\",\n",
    "                \"cycle\": \"{cycle}\",\n",
    "            },\n",
    "            \"metadata\",\n",
    "            \"tsv\",\n",
    "        ),\n",
    "    ],\n",
    "    \"combine_metadata_sbs\": [\n",
    "        PREPROCESS_FP\n",
    "        / \"metadata\"\n",
    "        / \"sbs\"\n",
    "        / get_filename(\n",
    "            {\n",
    "                \"plate\": \"{plate}\",\n",
    "                \"well\": \"{well}\",\n",
    "            },\n",
    "            \"combined_metadata\",\n",
    "            \"parquet\",\n",
    "        ),\n",
    "    ],\n",
    "    \"extract_metadata_phenotype\": [\n",
    "        PREPROCESS_FP\n",
    "        / \"metadata\"\n",
    "        / \"phenotype\"\n",
    "        / get_filename(\n",
    "            {\n",
    "                \"plate\": \"{plate}\",\n",
    "                \"well\": \"{well}\",\n",
    "                \"tile\": \"{tile}\",\n",
    "            },\n",
    "            \"metadata\",\n",
    "            \"tsv\",\n",
    "        ),\n",
    "    ],\n",
    "    \"combine_metadata_phenotype\": [\n",
    "        PREPROCESS_FP\n",
    "        / \"metadata\"\n",
    "        / \"phenotype\"\n",
    "        / get_filename(\n",
    "            {\n",
    "                \"plate\": \"{plate}\",\n",
    "                \"well\": \"{well}\",\n",
    "            },\n",
    "            \"combined_metadata\",\n",
    "            \"parquet\",\n",
    "        ),\n",
    "    ],\n",
    "    \"convert_sbs\": [\n",
    "        PREPROCESS_FP\n",
    "        / \"images\"\n",
    "        / \"sbs\"\n",
    "        / get_filename(\n",
    "            {\n",
    "                \"plate\": \"{plate}\",\n",
    "                \"well\": \"{well}\",\n",
    "                \"tile\": \"{tile}\",\n",
    "                \"cycle\": \"{cycle}\",\n",
    "            },\n",
    "            \"image\",\n",
    "            \"tiff\",\n",
    "        ),\n",
    "    ],\n",
    "    \"convert_phenotype\": [\n",
    "        PREPROCESS_FP\n",
    "        / \"images\"\n",
    "        / \"phenotype\"\n",
    "        / get_filename(\n",
    "            {\n",
    "                \"plate\": \"{plate}\",\n",
    "                \"well\": \"{well}\",\n",
    "                \"tile\": \"{tile}\",\n",
    "            },\n",
    "            \"image\",\n",
    "            \"tiff\",\n",
    "        ),\n",
    "    ],\n",
    "    \"calculate_ic_sbs\": [\n",
    "        PREPROCESS_FP\n",
    "        / \"ic_fields\"\n",
    "        / \"sbs\"\n",
    "        / get_filename(\n",
    "            {\n",
    "                \"plate\": \"{plate}\",\n",
    "                \"well\": \"{well}\",\n",
    "                \"cycle\": \"{cycle}\",\n",
    "            },\n",
    "            \"ic_field\",\n",
    "            \"tiff\",\n",
    "        ),\n",
    "    ],\n",
    "    \"calculate_ic_phenotype\": [\n",
    "        PREPROCESS_FP\n",
    "        / \"ic_fields\"\n",
    "        / \"phenotype\"\n",
    "        / get_filename(\n",
    "            {\n",
    "                \"plate\": \"{plate}\",\n",
    "                \"well\": \"{well}\",\n",
    "            },\n",
    "            \"ic_field\",\n",
    "            \"tiff\",\n",
    "        ),\n",
    "    ],\n",
    "}"
   ]
  },
  {
   "cell_type": "code",
   "execution_count": 4,
   "metadata": {},
   "outputs": [
    {
     "data": {
      "text/plain": [
       "'root_fp/preprocess/metadata/sbs/P-{plate}_W-{well}__combined_metadata.parquet'"
      ]
     },
     "execution_count": 4,
     "metadata": {},
     "output_type": "execute_result"
    }
   ],
   "source": [
    "str(PREPROCESS_OUTPUTS[\"combine_metadata_sbs\"][0])"
   ]
  },
  {
   "cell_type": "code",
   "execution_count": null,
   "metadata": {},
   "outputs": [
    {
     "data": {
      "text/plain": [
       "PosixPath('root_fp/preprocess/metadata/sbs/P-{plate}_W-{well}__combined_metadata.parquet')"
      ]
     },
     "execution_count": 6,
     "metadata": {},
     "output_type": "execute_result"
    }
   ],
   "source": [
    "def ancient_output_to_input(output_path, wildcard_values):\n",
    "    output_path = output_path.format(**wildcard_values)\n",
    "    return output_path\n",
    "\n",
    "ancient_output_to_input(PREPROCESS_OUTPUTS[\"combine_metadata_sbs\"][0], {\"plate\": 1, \"well\": \"A1\"})"
   ]
  }
 ],
 "metadata": {
  "kernelspec": {
   "display_name": "brieflow_configuration",
   "language": "python",
   "name": "python3"
  },
  "language_info": {
   "codemirror_mode": {
    "name": "ipython",
    "version": 3
   },
   "file_extension": ".py",
   "mimetype": "text/x-python",
   "name": "python",
   "nbconvert_exporter": "python",
   "pygments_lexer": "ipython3",
   "version": "3.11.11"
  }
 },
 "nbformat": 4,
 "nbformat_minor": 2
}
